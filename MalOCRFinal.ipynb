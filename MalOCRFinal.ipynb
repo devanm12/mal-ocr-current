{
  "nbformat": 4,
  "nbformat_minor": 0,
  "metadata": {
    "colab": {
      "provenance": [],
      "gpuType": "T4"
    },
    "kernelspec": {
      "name": "python3",
      "display_name": "Python 3"
    },
    "language_info": {
      "name": "python"
    },
    "accelerator": "GPU"
  },
  "cells": [
    {
      "cell_type": "code",
      "execution_count": null,
      "metadata": {
        "colab": {
          "base_uri": "https://localhost:8080/"
        },
        "id": "kYrWS5LIqjuF",
        "outputId": "8576d4bc-150f-449f-dc42-8331a5820104"
      },
      "outputs": [
        {
          "output_type": "stream",
          "name": "stdout",
          "text": [
            "Requirement already satisfied: tensorflow in /usr/local/lib/python3.10/dist-packages (2.14.0)\n",
            "Requirement already satisfied: absl-py>=1.0.0 in /usr/local/lib/python3.10/dist-packages (from tensorflow) (1.4.0)\n",
            "Requirement already satisfied: astunparse>=1.6.0 in /usr/local/lib/python3.10/dist-packages (from tensorflow) (1.6.3)\n",
            "Requirement already satisfied: flatbuffers>=23.5.26 in /usr/local/lib/python3.10/dist-packages (from tensorflow) (23.5.26)\n",
            "Requirement already satisfied: gast!=0.5.0,!=0.5.1,!=0.5.2,>=0.2.1 in /usr/local/lib/python3.10/dist-packages (from tensorflow) (0.5.4)\n",
            "Requirement already satisfied: google-pasta>=0.1.1 in /usr/local/lib/python3.10/dist-packages (from tensorflow) (0.2.0)\n",
            "Requirement already satisfied: h5py>=2.9.0 in /usr/local/lib/python3.10/dist-packages (from tensorflow) (3.9.0)\n",
            "Requirement already satisfied: libclang>=13.0.0 in /usr/local/lib/python3.10/dist-packages (from tensorflow) (16.0.6)\n",
            "Requirement already satisfied: ml-dtypes==0.2.0 in /usr/local/lib/python3.10/dist-packages (from tensorflow) (0.2.0)\n",
            "Requirement already satisfied: numpy>=1.23.5 in /usr/local/lib/python3.10/dist-packages (from tensorflow) (1.23.5)\n",
            "Requirement already satisfied: opt-einsum>=2.3.2 in /usr/local/lib/python3.10/dist-packages (from tensorflow) (3.3.0)\n",
            "Requirement already satisfied: packaging in /usr/local/lib/python3.10/dist-packages (from tensorflow) (23.2)\n",
            "Requirement already satisfied: protobuf!=4.21.0,!=4.21.1,!=4.21.2,!=4.21.3,!=4.21.4,!=4.21.5,<5.0.0dev,>=3.20.3 in /usr/local/lib/python3.10/dist-packages (from tensorflow) (3.20.3)\n",
            "Requirement already satisfied: setuptools in /usr/local/lib/python3.10/dist-packages (from tensorflow) (67.7.2)\n",
            "Requirement already satisfied: six>=1.12.0 in /usr/local/lib/python3.10/dist-packages (from tensorflow) (1.16.0)\n",
            "Requirement already satisfied: termcolor>=1.1.0 in /usr/local/lib/python3.10/dist-packages (from tensorflow) (2.3.0)\n",
            "Requirement already satisfied: typing-extensions>=3.6.6 in /usr/local/lib/python3.10/dist-packages (from tensorflow) (4.5.0)\n",
            "Requirement already satisfied: wrapt<1.15,>=1.11.0 in /usr/local/lib/python3.10/dist-packages (from tensorflow) (1.14.1)\n",
            "Requirement already satisfied: tensorflow-io-gcs-filesystem>=0.23.1 in /usr/local/lib/python3.10/dist-packages (from tensorflow) (0.34.0)\n",
            "Requirement already satisfied: grpcio<2.0,>=1.24.3 in /usr/local/lib/python3.10/dist-packages (from tensorflow) (1.59.2)\n",
            "Requirement already satisfied: tensorboard<2.15,>=2.14 in /usr/local/lib/python3.10/dist-packages (from tensorflow) (2.14.1)\n",
            "Requirement already satisfied: tensorflow-estimator<2.15,>=2.14.0 in /usr/local/lib/python3.10/dist-packages (from tensorflow) (2.14.0)\n",
            "Requirement already satisfied: keras<2.15,>=2.14.0 in /usr/local/lib/python3.10/dist-packages (from tensorflow) (2.14.0)\n",
            "Requirement already satisfied: wheel<1.0,>=0.23.0 in /usr/local/lib/python3.10/dist-packages (from astunparse>=1.6.0->tensorflow) (0.41.3)\n",
            "Requirement already satisfied: google-auth<3,>=1.6.3 in /usr/local/lib/python3.10/dist-packages (from tensorboard<2.15,>=2.14->tensorflow) (2.17.3)\n",
            "Requirement already satisfied: google-auth-oauthlib<1.1,>=0.5 in /usr/local/lib/python3.10/dist-packages (from tensorboard<2.15,>=2.14->tensorflow) (1.0.0)\n",
            "Requirement already satisfied: markdown>=2.6.8 in /usr/local/lib/python3.10/dist-packages (from tensorboard<2.15,>=2.14->tensorflow) (3.5.1)\n",
            "Requirement already satisfied: requests<3,>=2.21.0 in /usr/local/lib/python3.10/dist-packages (from tensorboard<2.15,>=2.14->tensorflow) (2.31.0)\n",
            "Requirement already satisfied: tensorboard-data-server<0.8.0,>=0.7.0 in /usr/local/lib/python3.10/dist-packages (from tensorboard<2.15,>=2.14->tensorflow) (0.7.2)\n",
            "Requirement already satisfied: werkzeug>=1.0.1 in /usr/local/lib/python3.10/dist-packages (from tensorboard<2.15,>=2.14->tensorflow) (3.0.1)\n",
            "Requirement already satisfied: cachetools<6.0,>=2.0.0 in /usr/local/lib/python3.10/dist-packages (from google-auth<3,>=1.6.3->tensorboard<2.15,>=2.14->tensorflow) (5.3.2)\n",
            "Requirement already satisfied: pyasn1-modules>=0.2.1 in /usr/local/lib/python3.10/dist-packages (from google-auth<3,>=1.6.3->tensorboard<2.15,>=2.14->tensorflow) (0.3.0)\n",
            "Requirement already satisfied: rsa<5,>=3.1.4 in /usr/local/lib/python3.10/dist-packages (from google-auth<3,>=1.6.3->tensorboard<2.15,>=2.14->tensorflow) (4.9)\n",
            "Requirement already satisfied: requests-oauthlib>=0.7.0 in /usr/local/lib/python3.10/dist-packages (from google-auth-oauthlib<1.1,>=0.5->tensorboard<2.15,>=2.14->tensorflow) (1.3.1)\n",
            "Requirement already satisfied: charset-normalizer<4,>=2 in /usr/local/lib/python3.10/dist-packages (from requests<3,>=2.21.0->tensorboard<2.15,>=2.14->tensorflow) (3.3.2)\n",
            "Requirement already satisfied: idna<4,>=2.5 in /usr/local/lib/python3.10/dist-packages (from requests<3,>=2.21.0->tensorboard<2.15,>=2.14->tensorflow) (3.4)\n",
            "Requirement already satisfied: urllib3<3,>=1.21.1 in /usr/local/lib/python3.10/dist-packages (from requests<3,>=2.21.0->tensorboard<2.15,>=2.14->tensorflow) (2.0.7)\n",
            "Requirement already satisfied: certifi>=2017.4.17 in /usr/local/lib/python3.10/dist-packages (from requests<3,>=2.21.0->tensorboard<2.15,>=2.14->tensorflow) (2023.7.22)\n",
            "Requirement already satisfied: MarkupSafe>=2.1.1 in /usr/local/lib/python3.10/dist-packages (from werkzeug>=1.0.1->tensorboard<2.15,>=2.14->tensorflow) (2.1.3)\n",
            "Requirement already satisfied: pyasn1<0.6.0,>=0.4.6 in /usr/local/lib/python3.10/dist-packages (from pyasn1-modules>=0.2.1->google-auth<3,>=1.6.3->tensorboard<2.15,>=2.14->tensorflow) (0.5.0)\n",
            "Requirement already satisfied: oauthlib>=3.0.0 in /usr/local/lib/python3.10/dist-packages (from requests-oauthlib>=0.7.0->google-auth-oauthlib<1.1,>=0.5->tensorboard<2.15,>=2.14->tensorflow) (3.2.2)\n",
            "Requirement already satisfied: numpy in /usr/local/lib/python3.10/dist-packages (1.23.5)\n",
            "Requirement already satisfied: matplotlib in /usr/local/lib/python3.10/dist-packages (3.7.1)\n",
            "Requirement already satisfied: contourpy>=1.0.1 in /usr/local/lib/python3.10/dist-packages (from matplotlib) (1.2.0)\n",
            "Requirement already satisfied: cycler>=0.10 in /usr/local/lib/python3.10/dist-packages (from matplotlib) (0.12.1)\n",
            "Requirement already satisfied: fonttools>=4.22.0 in /usr/local/lib/python3.10/dist-packages (from matplotlib) (4.44.3)\n",
            "Requirement already satisfied: kiwisolver>=1.0.1 in /usr/local/lib/python3.10/dist-packages (from matplotlib) (1.4.5)\n",
            "Requirement already satisfied: numpy>=1.20 in /usr/local/lib/python3.10/dist-packages (from matplotlib) (1.23.5)\n",
            "Requirement already satisfied: packaging>=20.0 in /usr/local/lib/python3.10/dist-packages (from matplotlib) (23.2)\n",
            "Requirement already satisfied: pillow>=6.2.0 in /usr/local/lib/python3.10/dist-packages (from matplotlib) (9.4.0)\n",
            "Requirement already satisfied: pyparsing>=2.3.1 in /usr/local/lib/python3.10/dist-packages (from matplotlib) (3.1.1)\n",
            "Requirement already satisfied: python-dateutil>=2.7 in /usr/local/lib/python3.10/dist-packages (from matplotlib) (2.8.2)\n",
            "Requirement already satisfied: six>=1.5 in /usr/local/lib/python3.10/dist-packages (from python-dateutil>=2.7->matplotlib) (1.16.0)\n",
            "Requirement already satisfied: scikit-learn in /usr/local/lib/python3.10/dist-packages (1.2.2)\n",
            "Requirement already satisfied: numpy>=1.17.3 in /usr/local/lib/python3.10/dist-packages (from scikit-learn) (1.23.5)\n",
            "Requirement already satisfied: scipy>=1.3.2 in /usr/local/lib/python3.10/dist-packages (from scikit-learn) (1.11.3)\n",
            "Requirement already satisfied: joblib>=1.1.1 in /usr/local/lib/python3.10/dist-packages (from scikit-learn) (1.3.2)\n",
            "Requirement already satisfied: threadpoolctl>=2.0.0 in /usr/local/lib/python3.10/dist-packages (from scikit-learn) (3.2.0)\n",
            "Requirement already satisfied: pillow in /usr/local/lib/python3.10/dist-packages (9.4.0)\n"
          ]
        }
      ],
      "source": [
        "!pip install tensorflow\n",
        "!pip install numpy\n",
        "!pip install matplotlib\n",
        "!pip install scikit-learn\n",
        "!pip install pillow"
      ]
    },
    {
      "cell_type": "code",
      "source": [
        "import os, sys\n",
        "import cv2\n",
        "import numpy as np\n",
        "import tensorflow as tf\n",
        "from tensorflow import keras\n",
        "from google.colab.patches import cv2_imshow\n",
        "from google.colab import files"
      ],
      "metadata": {
        "id": "DtgzGc23raF8"
      },
      "execution_count": null,
      "outputs": []
    },
    {
      "cell_type": "code",
      "source": [
        "from google.colab import drive\n",
        "drive.mount('/content/drive')\n",
        "dataset_path = '/content/drive/MyDrive/Dataset/Ka/'\n",
        "preprocessed_path = '/content/preprocessed/Ka'"
      ],
      "metadata": {
        "colab": {
          "base_uri": "https://localhost:8080/"
        },
        "id": "gRYLQlVWraqH",
        "outputId": "924887e5-c6fe-4332-d34f-943970d1454b"
      },
      "execution_count": null,
      "outputs": [
        {
          "output_type": "stream",
          "name": "stdout",
          "text": [
            "Mounted at /content/drive\n"
          ]
        }
      ]
    },
    {
      "cell_type": "code",
      "source": [
        "!cd drive/MyDrive/Dataset/Ka && ls"
      ],
      "metadata": {
        "colab": {
          "base_uri": "https://localhost:8080/"
        },
        "id": "zzYo_dGarsOb",
        "outputId": "4397144b-04c1-4797-87ac-5d69a96fc6c6"
      },
      "execution_count": null,
      "outputs": [
        {
          "output_type": "stream",
          "name": "stdout",
          "text": [
            "Ka  Kaa  Kae  Kah  Kai\tKam  Kau  Ke  Ki  Kii  Ko  Koo\tKru  Ku  Kuu\n"
          ]
        }
      ]
    },
    {
      "cell_type": "code",
      "source": [
        "letters = []\n",
        "for folders in os.listdir(dataset_path):\n",
        "    letters.append(folders + \"/\")\n",
        "print(letters)"
      ],
      "metadata": {
        "colab": {
          "base_uri": "https://localhost:8080/"
        },
        "id": "vPRxGqnc2heS",
        "outputId": "db2db8db-2af2-478f-e1d4-1bd42fdf33fb"
      },
      "execution_count": null,
      "outputs": [
        {
          "output_type": "stream",
          "name": "stdout",
          "text": [
            "['Koo/', 'Ke/', 'Kru/', 'Kii/', 'Ko/', 'Ki/', 'Kau/', 'Ku/', 'Kam/', 'Kuu/', 'Kah/', 'Kae/', 'Kai/', 'Kaa/', 'Ka/']\n"
          ]
        }
      ]
    },
    {
      "cell_type": "code",
      "source": [
        "'''\n",
        "current_letter = \"Ka/\"\n",
        "images_path = dataset_path + current_letter\n",
        "images = []\n",
        "for file in os.listdir(images_path):\n",
        "    image = cv2.imread(os.path.join(images_path, file))\n",
        "    #cv2_imshow(image)\n",
        "    #image_name = file\n",
        "    image_dict = {\"image\": image, \"image_name\": file}\n",
        "    images.append(image_dict)\n",
        "\n",
        "'''"
      ],
      "metadata": {
        "colab": {
          "base_uri": "https://localhost:8080/",
          "height": 88
        },
        "id": "4Nrcc3O50QSi",
        "outputId": "7be8a6e9-a558-453c-c9a4-7522ced0f3f9"
      },
      "execution_count": null,
      "outputs": [
        {
          "output_type": "execute_result",
          "data": {
            "text/plain": [
              "'\\ncurrent_letter = \"Ka/\"\\nimages_path = dataset_path + current_letter\\nimages = []\\nfor file in os.listdir(images_path):\\n    image = cv2.imread(os.path.join(images_path, file))\\n    #cv2_imshow(image)\\n    #image_name = file\\n    image_dict = {\"image\": image, \"image_name\": file}\\n    images.append(image_dict)\\n\\n'"
            ],
            "application/vnd.google.colaboratory.intrinsic+json": {
              "type": "string"
            }
          },
          "metadata": {},
          "execution_count": 6
        }
      ]
    },
    {
      "cell_type": "markdown",
      "source": [
        "# Resizing Images"
      ],
      "metadata": {
        "id": "6xm6_ENI89uj"
      }
    },
    {
      "cell_type": "code",
      "source": [
        "def resize(images):\n",
        "    resized_images = []\n",
        "    for image in images:\n",
        "        #print(image.shape)\n",
        "        new_image = cv2.resize(image.get(\"image\"), (150, 150), interpolation = cv2.INTER_CUBIC)\n",
        "        #cv2_imshow(new_image)\n",
        "        image_dict = {\"image\": new_image, \"image_name\": image.get('image_name')}\n",
        "        resized_images.append(image_dict)\n",
        "    return resized_images"
      ],
      "metadata": {
        "id": "NcFKN60bxeNa"
      },
      "execution_count": null,
      "outputs": []
    },
    {
      "cell_type": "code",
      "source": [
        "'''\n",
        "resized_images = []\n",
        "for image in images:\n",
        "    #print(image.shape)\n",
        "    new_image = cv2.resize(image.get(\"image\"), (150, 150), interpolation = cv2.INTER_CUBIC)\n",
        "    #cv2_imshow(new_image)\n",
        "    image_dict = {\"image\": new_image, \"image_name\": image.get('image_name')}\n",
        "    resized_images.append(image_dict)\n",
        "'''"
      ],
      "metadata": {
        "colab": {
          "base_uri": "https://localhost:8080/",
          "height": 88
        },
        "id": "KaFiMY6V4v3H",
        "outputId": "634a4364-9672-4aba-a4d0-e56b4f3a430e"
      },
      "execution_count": null,
      "outputs": [
        {
          "output_type": "execute_result",
          "data": {
            "text/plain": [
              "'\\nresized_images = []\\nfor image in images:\\n    #print(image.shape)\\n    new_image = cv2.resize(image.get(\"image\"), (150, 150), interpolation = cv2.INTER_CUBIC)\\n    #cv2_imshow(new_image)\\n    image_dict = {\"image\": new_image, \"image_name\": image.get(\\'image_name\\')}\\n    resized_images.append(image_dict)\\n'"
            ],
            "application/vnd.google.colaboratory.intrinsic+json": {
              "type": "string"
            }
          },
          "metadata": {},
          "execution_count": 8
        }
      ]
    },
    {
      "cell_type": "markdown",
      "source": [
        "# Colour to Grayscale Images"
      ],
      "metadata": {
        "id": "LPQB7Izy9CSg"
      }
    },
    {
      "cell_type": "code",
      "source": [
        "def col2gray(resized_images):\n",
        "    grayscaled_images = []\n",
        "    for image in resized_images:\n",
        "        #print(image.shape)\n",
        "        gray_image = cv2.cvtColor(image.get(\"image\"), cv2.COLOR_BGR2GRAY)\n",
        "        #cv2_imshow(gray_image)\n",
        "        image_dict = {\"image\": gray_image, \"image_name\": image.get('image_name')}\n",
        "        grayscaled_images.append(image_dict)\n",
        "        #print(image.get(\"image\").shape, gray_image.shape)\n",
        "    return grayscaled_images"
      ],
      "metadata": {
        "id": "b5thb4-rxsa_"
      },
      "execution_count": null,
      "outputs": []
    },
    {
      "cell_type": "code",
      "source": [
        "'''\n",
        "grayscaled_images = []\n",
        "for image in resized_images:\n",
        "    #print(image.shape)\n",
        "    gray_image = cv2.cvtColor(image.get(\"image\"), cv2.COLOR_BGR2GRAY)\n",
        "    #cv2_imshow(gray_image)\n",
        "    image_dict = {\"image\": gray_image, \"image_name\": image.get('image_name')}\n",
        "    grayscaled_images.append(image_dict)\n",
        "    #print(image.get(\"image\").shape, gray_image.shape)\n",
        "'''"
      ],
      "metadata": {
        "colab": {
          "base_uri": "https://localhost:8080/",
          "height": 105
        },
        "id": "IsCmYSts7ktg",
        "outputId": "5ac46523-7ec7-4211-839c-22d489f8630e"
      },
      "execution_count": null,
      "outputs": [
        {
          "output_type": "execute_result",
          "data": {
            "text/plain": [
              "'\\ngrayscaled_images = []\\nfor image in resized_images:\\n    #print(image.shape)\\n    gray_image = cv2.cvtColor(image.get(\"image\"), cv2.COLOR_BGR2GRAY)\\n    #cv2_imshow(gray_image)\\n    image_dict = {\"image\": gray_image, \"image_name\": image.get(\\'image_name\\')}\\n    grayscaled_images.append(image_dict)\\n    #print(image.get(\"image\").shape, gray_image.shape)\\n'"
            ],
            "application/vnd.google.colaboratory.intrinsic+json": {
              "type": "string"
            }
          },
          "metadata": {},
          "execution_count": 10
        }
      ]
    },
    {
      "cell_type": "code",
      "source": [
        "'''\n",
        "!rm -r gray\n",
        "!mkdir gray\n",
        "for image in grayscaled_images:\n",
        "    cv2.imwrite(os.path.join('gray', image.get(\"image_name\")), image.get(\"image\"))\n",
        "'''"
      ],
      "metadata": {
        "colab": {
          "base_uri": "https://localhost:8080/",
          "height": 53
        },
        "id": "yBuiHUWPMTZD",
        "outputId": "6657f264-e1b1-44d4-dca1-fe6bd1c24ba7"
      },
      "execution_count": null,
      "outputs": [
        {
          "output_type": "execute_result",
          "data": {
            "text/plain": [
              "'\\n!rm -r gray\\n!mkdir gray\\nfor image in grayscaled_images:\\n    cv2.imwrite(os.path.join(\\'gray\\', image.get(\"image_name\")), image.get(\"image\"))\\n'"
            ],
            "application/vnd.google.colaboratory.intrinsic+json": {
              "type": "string"
            }
          },
          "metadata": {},
          "execution_count": 11
        }
      ]
    },
    {
      "cell_type": "markdown",
      "source": [
        "# Grayscale to Monochrome Images"
      ],
      "metadata": {
        "id": "o7ZgJmER9FZu"
      }
    },
    {
      "cell_type": "code",
      "source": [
        "def gray2mono(grayscaled_images):\n",
        "    monochrome_images = []\n",
        "    for image in grayscaled_images:\n",
        "        #print(image.shape)\n",
        "        (thresh, monochrome_image) = cv2.threshold(image.get(\"image\"), 128, 255, cv2.THRESH_BINARY | cv2.THRESH_OTSU)\n",
        "        #cv2_imshow(monochrome_image)\n",
        "        image_dict = {\"image\": monochrome_image, \"image_name\": image.get('image_name')}\n",
        "        monochrome_images.append(image_dict)\n",
        "        #print(image.get(\"image\").shape, monochrome_image.shape)\n",
        "    return monochrome_images"
      ],
      "metadata": {
        "id": "NSpX1U0px924"
      },
      "execution_count": null,
      "outputs": []
    },
    {
      "cell_type": "code",
      "source": [
        "'''\n",
        "monochrome_images = []\n",
        "for image in grayscaled_images:\n",
        "    #print(image.shape)\n",
        "    (thresh, monochrome_image) = cv2.threshold(image.get(\"image\"), 128, 255, cv2.THRESH_BINARY | cv2.THRESH_OTSU)\n",
        "    #cv2_imshow(monochrome_image)\n",
        "    image_dict = {\"image\": monochrome_image, \"image_name\": image.get('image_name')}\n",
        "    monochrome_images.append(image_dict)\n",
        "    #print(image.get(\"image\").shape, monochrome_image.shape)\n",
        "'''"
      ],
      "metadata": {
        "colab": {
          "base_uri": "https://localhost:8080/",
          "height": 105
        },
        "id": "JcvnGDhL8B4o",
        "outputId": "ba3c9130-a700-4547-e5a5-60e8bff990a6"
      },
      "execution_count": null,
      "outputs": [
        {
          "output_type": "execute_result",
          "data": {
            "text/plain": [
              "'\\nmonochrome_images = []\\nfor image in grayscaled_images:\\n    #print(image.shape)\\n    (thresh, monochrome_image) = cv2.threshold(image.get(\"image\"), 128, 255, cv2.THRESH_BINARY | cv2.THRESH_OTSU)\\n    #cv2_imshow(monochrome_image)\\n    image_dict = {\"image\": monochrome_image, \"image_name\": image.get(\\'image_name\\')}\\n    monochrome_images.append(image_dict)\\n    #print(image.get(\"image\").shape, monochrome_image.shape)\\n'"
            ],
            "application/vnd.google.colaboratory.intrinsic+json": {
              "type": "string"
            }
          },
          "metadata": {},
          "execution_count": 13
        }
      ]
    },
    {
      "cell_type": "code",
      "source": [
        "'''\n",
        "!rm -r mono\n",
        "!mkdir mono\n",
        "for image in monochrome_images:\n",
        "    cv2.imwrite(os.path.join('mono/', image.get(\"image_name\")), image.get(\"image\"))\n",
        "'''"
      ],
      "metadata": {
        "colab": {
          "base_uri": "https://localhost:8080/",
          "height": 53
        },
        "id": "CdVha6DX80B6",
        "outputId": "dfd8adbc-f806-41d6-9fa7-d7cf1c222170"
      },
      "execution_count": null,
      "outputs": [
        {
          "output_type": "execute_result",
          "data": {
            "text/plain": [
              "'\\n!rm -r mono\\n!mkdir mono\\nfor image in monochrome_images:\\n    cv2.imwrite(os.path.join(\\'mono/\\', image.get(\"image_name\")), image.get(\"image\"))\\n'"
            ],
            "application/vnd.google.colaboratory.intrinsic+json": {
              "type": "string"
            }
          },
          "metadata": {},
          "execution_count": 14
        }
      ]
    },
    {
      "cell_type": "markdown",
      "source": [
        "# Morphological Operations (Erosion and Dilution)"
      ],
      "metadata": {
        "id": "Afa8iRqpIBW-"
      }
    },
    {
      "cell_type": "code",
      "source": [
        "def erode(image, kernel):\n",
        "    return cv2.dilate(image, kernel, iterations=1) #reversed because image is negative\n",
        "\n",
        "def dilate(image, kernel):\n",
        "    return cv2.erode(image, kernel, iterations=1) #reversed because image is negative\n",
        "\n",
        "def erodil(image, kernel1, kernel2):\n",
        "    return dilate(erode(image, kernel1), kernel2)\n",
        "\n",
        "def dilero(image, kernel1, kernel2):\n",
        "    return erode(dilate(image, kernel1), kernel2)"
      ],
      "metadata": {
        "id": "YTuwZkNEOZCT"
      },
      "execution_count": null,
      "outputs": []
    },
    {
      "cell_type": "code",
      "source": [
        "def morph(monochrome_images):\n",
        "    kernel1 = np.ones((5, 5), np.uint8)\n",
        "    kernel2 = np.ones((5, 5), np.uint8)\n",
        "\n",
        "    morphologised_images = []\n",
        "    for image in monochrome_images:\n",
        "        #print(image.shape)\n",
        "        erodiled = erodil(image.get(\"image\"), kernel1, kernel2)\n",
        "        dileroed = dilero(image.get(\"image\"), kernel1, kernel2)\n",
        "        #cv2_imshow(erodiled)\n",
        "        #cv2_imshow(dileroed)\n",
        "        image_dict = {\"image\": dileroed, \"image_name\": image.get('image_name')} #Chose dileroed because it looks better\n",
        "        morphologised_images.append(image_dict)\n",
        "        #print(image.get(\"image\").shape, morphologised_images.shape)\n",
        "    return morphologised_images"
      ],
      "metadata": {
        "id": "gpLricB-yGJS"
      },
      "execution_count": null,
      "outputs": []
    },
    {
      "cell_type": "code",
      "source": [
        "kernel = np.ones((5, 5), np.uint8)\n",
        "img = cv2.imread('/content/drive/MyDrive/Dataset/Ka/Ka/Ka_23.png', cv2.IMREAD_GRAYSCALE)\n",
        "\n",
        "eroded_and_dilated = erodil(img, kernel, kernel)\n",
        "dilated_and_eroded = dilero(img, kernel, kernel)\n",
        "\n",
        "print('Original Image:')\n",
        "cv2_imshow(img)\n",
        "\n",
        "print('Erosion and Dilation:')\n",
        "cv2_imshow(eroded_and_dilated)\n",
        "\n",
        "print('Dilation and Erosion:')\n",
        "cv2_imshow(dilated_and_eroded)"
      ],
      "metadata": {
        "colab": {
          "base_uri": "https://localhost:8080/",
          "height": 519
        },
        "id": "lWZ29LvJAbWz",
        "outputId": "4d0c9576-73c1-4420-beed-e5d90c333b44"
      },
      "execution_count": null,
      "outputs": [
        {
          "output_type": "stream",
          "name": "stdout",
          "text": [
            "Original Image:\n"
          ]
        },
        {
          "output_type": "display_data",
          "data": {
            "text/plain": [
              "<PIL.Image.Image image mode=L size=150x150>"
            ],
            "image/png": "[encoded data removed]"
          },
          "metadata": {}
        },
        {
          "output_type": "stream",
          "name": "stdout",
          "text": [
            "Erosion and Dilation:\n"
          ]
        },
        {
          "output_type": "display_data",
          "data": {
            "text/plain": [
              "<PIL.Image.Image image mode=L size=150x150>"
            ],
            "image/png": "[encoded data removed]"
          },
          "metadata": {}
        },
        {
          "output_type": "stream",
          "name": "stdout",
          "text": [
            "Dilation and Erosion:\n"
          ]
        },
        {
          "output_type": "display_data",
          "data": {
            "text/plain": [
              "<PIL.Image.Image image mode=L size=150x150>"
            ],
            "image/png": "[encoded data removed]"
          },
          "metadata": {}
        }
      ]
    },
    {
      "cell_type": "code",
      "source": [
        "'''\n",
        "kernel1 = np.ones((5, 5), np.uint8)\n",
        "kernel2 = np.ones((5, 5), np.uint8)\n",
        "\n",
        "morphologised_images = []\n",
        "for image in monochrome_images:\n",
        "    #print(image.shape)\n",
        "    erodiled = erodil(image.get(\"image\"), kernel1, kernel2)\n",
        "    dileroed = dilero(image.get(\"image\"), kernel1, kernel2)\n",
        "    #cv2_imshow(erodiled)\n",
        "    #cv2_imshow(dileroed)\n",
        "    image_dict = {\"image\": dileroed, \"image_name\": image.get('image_name')} #Chose dileroed because it looks better\n",
        "    morphologised_images.append(image_dict)\n",
        "    #print(image.get(\"image\").shape, morphologised_images.shape)\n",
        "'''"
      ],
      "metadata": {
        "colab": {
          "base_uri": "https://localhost:8080/",
          "height": 140
        },
        "id": "xEU-KpTWP2aM",
        "outputId": "c7189519-1a25-4ec9-d005-29a8f149f29c"
      },
      "execution_count": null,
      "outputs": [
        {
          "output_type": "execute_result",
          "data": {
            "text/plain": [
              "'\\nkernel1 = np.ones((5, 5), np.uint8)\\nkernel2 = np.ones((5, 5), np.uint8)\\n\\nmorphologised_images = []\\nfor image in monochrome_images:\\n    #print(image.shape)\\n    erodiled = erodil(image.get(\"image\"), kernel1, kernel2)\\n    dileroed = dilero(image.get(\"image\"), kernel1, kernel2)\\n    #cv2_imshow(erodiled)\\n    #cv2_imshow(dileroed)\\n    image_dict = {\"image\": dileroed, \"image_name\": image.get(\\'image_name\\')} #Chose dileroed because it looks better\\n    morphologised_images.append(image_dict)\\n    #print(image.get(\"image\").shape, morphologised_images.shape)\\n'"
            ],
            "application/vnd.google.colaboratory.intrinsic+json": {
              "type": "string"
            }
          },
          "metadata": {},
          "execution_count": 18
        }
      ]
    },
    {
      "cell_type": "code",
      "source": [
        "'''\n",
        "!rm -r morph\n",
        "!mkdir morph\n",
        "for image in monochrome_images:\n",
        "    cv2.imwrite(os.path.join('morph/', image.get(\"image_name\")), image.get(\"image\"))\n",
        "'''"
      ],
      "metadata": {
        "colab": {
          "base_uri": "https://localhost:8080/",
          "height": 53
        },
        "id": "Iblv_ULBK7ms",
        "outputId": "0779b32c-8134-49db-d202-41184fd94057"
      },
      "execution_count": null,
      "outputs": [
        {
          "output_type": "execute_result",
          "data": {
            "text/plain": [
              "'\\n!rm -r morph\\n!mkdir morph\\nfor image in monochrome_images:\\n    cv2.imwrite(os.path.join(\\'morph/\\', image.get(\"image_name\")), image.get(\"image\"))\\n'"
            ],
            "application/vnd.google.colaboratory.intrinsic+json": {
              "type": "string"
            }
          },
          "metadata": {},
          "execution_count": 19
        }
      ]
    },
    {
      "cell_type": "code",
      "source": [
        "'''\n",
        "print(letters)\n",
        "'''"
      ],
      "metadata": {
        "colab": {
          "base_uri": "https://localhost:8080/",
          "height": 36
        },
        "id": "yWQkmLlB6UCg",
        "outputId": "5cc63087-179c-4527-dbd9-652f820bc369"
      },
      "execution_count": null,
      "outputs": [
        {
          "output_type": "execute_result",
          "data": {
            "text/plain": [
              "'\\nprint(letters)\\n'"
            ],
            "application/vnd.google.colaboratory.intrinsic+json": {
              "type": "string"
            }
          },
          "metadata": {},
          "execution_count": 20
        }
      ]
    },
    {
      "cell_type": "markdown",
      "source": [
        "# Run all preprocessing steps together"
      ],
      "metadata": {
        "id": "SJN4X2u99BO5"
      }
    },
    {
      "cell_type": "code",
      "source": [
        "images_path"
      ],
      "metadata": {
        "colab": {
          "base_uri": "https://localhost:8080/",
          "height": 36
        },
        "id": "T_dYA0U2PXq_",
        "outputId": "4ef9e903-2e8f-452d-8130-994b9bcb51bd"
      },
      "execution_count": null,
      "outputs": [
        {
          "output_type": "execute_result",
          "data": {
            "text/plain": [
              "'/content/preprocessed/Ka/Ka/'"
            ],
            "application/vnd.google.colaboratory.intrinsic+json": {
              "type": "string"
            }
          },
          "metadata": {},
          "execution_count": 37
        }
      ]
    },
    {
      "cell_type": "code",
      "source": [
        "!rm -r preprocessed\n",
        "!mkdir -p preprocessed/Ka\n",
        "for current_letter in letters:\n",
        "    images_path = dataset_path + current_letter\n",
        "    images = []\n",
        "\n",
        "    for file in os.listdir(images_path):\n",
        "        image = cv2.imread(os.path.join(images_path, file))\n",
        "        #cv2_imshow(image)\n",
        "        #image_name = file\n",
        "        image_dict = {\"image\": image, \"image_name\": file}\n",
        "        images.append(image_dict)\n",
        "\n",
        "    #resize\n",
        "    #resized = resize(images)\n",
        "\n",
        "    #grayscale\n",
        "    gray = col2gray(images)\n",
        "\n",
        "    #monochrome\n",
        "    #mono\n",
        "    morphed = gray2mono(gray)\n",
        "\n",
        "    #morpholgical operations\n",
        "    #morphed = morph(mono)\n",
        "\n",
        "    current_letter_path = os.path.join(preprocessed_path, current_letter)\n",
        "    os.mkdir(current_letter_path)\n",
        "    for image in morphed:\n",
        "        cv2.imwrite(os.path.join(current_letter_path, image.get(\"image_name\")), image.get(\"image\"))"
      ],
      "metadata": {
        "id": "6kB2lz3mPCv9"
      },
      "execution_count": null,
      "outputs": []
    },
    {
      "cell_type": "code",
      "source": [
        "!rm -r preprocessed\n",
        "!mkdir -p preprocessed/Ka\n",
        "\n",
        "for current_letter in letters:\n",
        "    images_path = dataset_path + current_letter\n",
        "    images = []\n",
        "\n",
        "    for file in os.listdir(images_path):\n",
        "        image = cv2.imread(os.path.join(images_path, file))\n",
        "        #cv2_imshow(image)\n",
        "        #image_name = file\n",
        "        image_dict = {\"image\": image, \"image_name\": file}\n",
        "        images.append(image_dict)\n",
        "\n",
        "    #resize\n",
        "    resized = resize(images)\n",
        "\n",
        "    #grayscale\n",
        "    gray = col2gray(resized)\n",
        "\n",
        "    #monochrome\n",
        "    mono = gray2mono(gray)\n",
        "\n",
        "    #morpholgical operations\n",
        "    morphed = morph(mono)\n",
        "\n",
        "    current_letter_path = os.path.join(preprocessed_path, current_letter)\n",
        "    os.mkdir(current_letter_path)\n",
        "    for image in morphed:\n",
        "        cv2.imwrite(os.path.join(current_letter_path, image.get(\"image_name\")), image.get(\"image\"))"
      ],
      "metadata": {
        "id": "YSnVoqSHzzAS",
        "colab": {
          "base_uri": "https://localhost:8080/"
        },
        "outputId": "338dcfcf-f2e8-4358-9f7d-edb0fd219de8"
      },
      "execution_count": null,
      "outputs": [
        {
          "output_type": "stream",
          "name": "stdout",
          "text": [
            "rm: cannot remove 'preprocessed': No such file or directory\n"
          ]
        }
      ]
    },
    {
      "cell_type": "markdown",
      "source": [
        "# **CNN**"
      ],
      "metadata": {
        "id": "1BsxVeAO9Ueg"
      }
    },
    {
      "cell_type": "code",
      "source": [
        "import tensorflow as tf\n",
        "from tensorflow import keras\n",
        "from collections import deque"
      ],
      "metadata": {
        "id": "Qz2VYIMg6ijO"
      },
      "execution_count": null,
      "outputs": []
    },
    {
      "cell_type": "code",
      "source": [
        "class_names = ['Ka', 'Kaa', 'Ki', 'Kii', 'Ku', 'Kuu', 'Kru', 'Ke', 'Kae', 'Kai', 'Ko', 'Koo', 'Kau', 'Kam', 'Kah']\n",
        "class_labels = list(range(15))\n",
        "\n",
        "label_dict = {}\n",
        "tuples = [(key, value) for i, (key, value) in enumerate(zip(class_names, class_labels))]\n",
        "label_dict = dict(tuples)\n",
        "#label_dict"
      ],
      "metadata": {
        "id": "tCc10dNjGNLY"
      },
      "execution_count": null,
      "outputs": []
    },
    {
      "cell_type": "markdown",
      "source": [
        "# Train images"
      ],
      "metadata": {
        "id": "-rDBT3DQLjr8"
      }
    },
    {
      "cell_type": "code",
      "source": [
        "'''\n",
        "file = 'Ka_1.png'\n",
        "image = cv2.imread('/content/preprocessed/Ka/Ka/Ka_1.png', cv2.IMREAD_GRAYSCALE)\n",
        "data = np.asarray(image)\n",
        "\n",
        "train_images = np.array([data, data])\n",
        "train_images.shape\n",
        "'''"
      ],
      "metadata": {
        "colab": {
          "base_uri": "https://localhost:8080/",
          "height": 70
        },
        "id": "V2plNcyADH0L",
        "outputId": "799f493a-fbea-44a5-9f9b-d42cf37ca771"
      },
      "execution_count": null,
      "outputs": [
        {
          "output_type": "execute_result",
          "data": {
            "text/plain": [
              "\"\\nfile = 'Ka_1.png'\\nimage = cv2.imread('/content/preprocessed/Ka/Ka/Ka_1.png', cv2.IMREAD_GRAYSCALE)\\ndata = np.asarray(image)\\n\\ntrain_images = np.array([data, data])\\ntrain_images.shape\\n\""
            ],
            "application/vnd.google.colaboratory.intrinsic+json": {
              "type": "string"
            }
          },
          "metadata": {},
          "execution_count": 24
        }
      ]
    },
    {
      "cell_type": "markdown",
      "source": [
        "# Loading Dataset"
      ],
      "metadata": {
        "id": "wriv2PlDLngf"
      }
    },
    {
      "cell_type": "code",
      "source": [
        "temp_train_images = deque()\n",
        "temp_train_labels = deque()\n",
        "\n",
        "temp_test_images = deque()\n",
        "temp_test_labels = deque()\n",
        "\n",
        "counter = 0\n",
        "test_set_size_reciprocal = 10\n",
        "\n",
        "for current_letter in letters:\n",
        "    images_path = os.path.join(preprocessed_path, current_letter)\n",
        "\n",
        "    for file in os.listdir(images_path):\n",
        "        counter += 1\n",
        "\n",
        "        image_path = os.path.join(images_path, file)\n",
        "        image = cv2.imread(image_path, cv2.IMREAD_GRAYSCALE)\n",
        "        #cv2_imshow(image)\n",
        "\n",
        "        data = np.asarray(image)\n",
        "        parent_path = os.path.dirname(image_path)\n",
        "        base_name = os.path.basename(parent_path)\n",
        "        label = label_dict.get(base_name)\n",
        "\n",
        "        if counter % test_set_size_reciprocal == 0:\n",
        "            temp_test_images.append(data)\n",
        "            temp_test_labels.append(label)\n",
        "\n",
        "        else:\n",
        "            temp_train_images.append(data)\n",
        "            temp_train_labels.append(label)\n",
        "\n",
        "train_images = np.array(temp_train_images)\n",
        "train_labels = np.array(temp_train_labels)\n",
        "\n",
        "test_images = np.array(temp_train_images)\n",
        "test_labels = np.array(temp_train_labels)\n",
        "# train_images = tf.convert_to_tensor(np.array(temp_images), dtype = tf.uint8)\n",
        "# train_labels = tf.convert_to_tensor(np.array(temp_labels), dtype = tf.uint8)"
      ],
      "metadata": {
        "id": "cUUtqN2YFU2Q"
      },
      "execution_count": null,
      "outputs": []
    },
    {
      "cell_type": "markdown",
      "source": [
        "# Creating Model"
      ],
      "metadata": {
        "id": "9Tk1TyWSZrsx"
      }
    },
    {
      "cell_type": "code",
      "source": [
        "model = tf.keras.models.Sequential([\n",
        "    tf.keras.layers.Conv2D(32, (3,3), activation='relu', input_shape=(150, 150, 1)),\n",
        "    tf.keras.layers.MaxPooling2D(2, 2),\n",
        "    tf.keras.layers.Flatten(),\n",
        "    tf.keras.layers.Dense(128, activation='relu'),\n",
        "    tf.keras.layers.Dense(15, activation='softmax')\n",
        "])\n",
        "\n",
        "model.compile(optimizer='adam', loss='sparse_categorical_crossentropy', metrics=['accuracy'])\n",
        "#print(model.summary())"
      ],
      "metadata": {
        "id": "AXEidQOK-MBl"
      },
      "execution_count": null,
      "outputs": []
    },
    {
      "cell_type": "code",
      "source": [
        "history = model.fit(train_images, train_labels, epochs=7)"
      ],
      "metadata": {
        "colab": {
          "base_uri": "https://localhost:8080/"
        },
        "id": "DHcCGw0V_E_q",
        "outputId": "c151841a-54eb-4b3d-9a71-9be64854a64b"
      },
      "execution_count": null,
      "outputs": [
        {
          "output_type": "stream",
          "name": "stdout",
          "text": [
            "Epoch 1/7\n",
            "10/10 [==============================] - 12s 51ms/step - loss: 5594.5967 - accuracy: 0.0948\n",
            "Epoch 2/7\n",
            "10/10 [==============================] - 0s 27ms/step - loss: 584.8300 - accuracy: 0.2092\n",
            "Epoch 3/7\n",
            "10/10 [==============================] - 0s 25ms/step - loss: 179.3660 - accuracy: 0.3170\n",
            "Epoch 4/7\n",
            "10/10 [==============================] - 0s 23ms/step - loss: 63.3518 - accuracy: 0.4739\n",
            "Epoch 5/7\n",
            "10/10 [==============================] - 0s 27ms/step - loss: 33.2246 - accuracy: 0.4183\n",
            "Epoch 6/7\n",
            "10/10 [==============================] - 0s 24ms/step - loss: 14.1850 - accuracy: 0.5131\n",
            "Epoch 7/7\n",
            "10/10 [==============================] - 0s 24ms/step - loss: 6.2646 - accuracy: 0.6242\n"
          ]
        }
      ]
    },
    {
      "cell_type": "code",
      "source": [
        "test_loss, test_acc = model.evaluate(test_images,  test_labels, verbose=2)\n",
        "\n",
        "print('\\nTest accuracy:', test_acc)"
      ],
      "metadata": {
        "colab": {
          "base_uri": "https://localhost:8080/"
        },
        "id": "LYIW2LJM_6Y7",
        "outputId": "1b08ef07-65a3-4f95-c5e1-b34e5f8f5235"
      },
      "execution_count": null,
      "outputs": [
        {
          "output_type": "stream",
          "name": "stdout",
          "text": [
            "10/10 - 0s - loss: 4.5942 - accuracy: 0.7157 - 218ms/epoch - 22ms/step\n",
            "\n",
            "Test accuracy: 0.7156862616539001\n"
          ]
        }
      ]
    },
    {
      "cell_type": "markdown",
      "source": [
        "# **ResNet**"
      ],
      "metadata": {
        "id": "1mMV0G8Uqp_C"
      }
    },
    {
      "cell_type": "code",
      "source": [
        "import tensorflow as tf\n",
        "import numpy as np\n",
        "import matplotlib.pyplot as plt"
      ],
      "metadata": {
        "id": "rqYo4zeFraaG"
      },
      "execution_count": null,
      "outputs": []
    },
    {
      "cell_type": "code",
      "source": [
        "def identity_block(x, filter):\n",
        "    # copy tensor to variable called x_skip\n",
        "    x_skip = x\n",
        "    # Layer 1\n",
        "    x = tf.keras.layers.Conv2D(filter, (3,3), padding = 'same')(x)\n",
        "    x = tf.keras.layers.BatchNormalization(axis=3)(x)\n",
        "    x = tf.keras.layers.Activation('relu')(x)\n",
        "    # Layer 2\n",
        "    x = tf.keras.layers.Conv2D(filter, (3,3), padding = 'same')(x)\n",
        "    x = tf.keras.layers.BatchNormalization(axis=3)(x)\n",
        "    # Add Residue\n",
        "    x = tf.keras.layers.Add()([x, x_skip])\n",
        "    x = tf.keras.layers.Activation('relu')(x)\n",
        "    return x"
      ],
      "metadata": {
        "id": "SyGlwWEyrjN6"
      },
      "execution_count": null,
      "outputs": []
    },
    {
      "cell_type": "code",
      "source": [
        "def convolutional_block(x, filter):\n",
        "    # copy tensor to variable called x_skip\n",
        "    x_skip = x\n",
        "    # Layer 1\n",
        "    x = tf.keras.layers.Conv2D(filter, (3,3), padding = 'same', strides = (2,2))(x)\n",
        "    x = tf.keras.layers.BatchNormalization(axis=3)(x)\n",
        "    x = tf.keras.layers.Activation('relu')(x)\n",
        "    # Layer 2\n",
        "    x = tf.keras.layers.Conv2D(filter, (3,3), padding = 'same')(x)\n",
        "    x = tf.keras.layers.BatchNormalization(axis=3)(x)\n",
        "    # Processing Residue with conv(1,1)\n",
        "    x_skip = tf.keras.layers.Conv2D(filter, (1,1), strides = (2,2))(x_skip)\n",
        "    # Add Residue\n",
        "    x = tf.keras.layers.Add()([x, x_skip])\n",
        "    x = tf.keras.layers.Activation('relu')(x)\n",
        "    return x"
      ],
      "metadata": {
        "id": "I8VGKVj_rnVQ"
      },
      "execution_count": null,
      "outputs": []
    },
    {
      "cell_type": "code",
      "source": [
        "def ResNet34(shape = (32, 32, 3), classes = 10):\n",
        "    # Step 1 (Setup Input Layer)\n",
        "    x_input = tf.keras.layers.Input(shape)\n",
        "    x = tf.keras.layers.ZeroPadding2D((3, 3))(x_input)\n",
        "    # Step 2 (Initial Conv layer along with maxPool)\n",
        "    x = tf.keras.layers.Conv2D(64, kernel_size=7, strides=2, padding='same')(x)\n",
        "    x = tf.keras.layers.BatchNormalization()(x)\n",
        "    x = tf.keras.layers.Activation('relu')(x)\n",
        "    x = tf.keras.layers.MaxPool2D(pool_size=3, strides=2, padding='same')(x)\n",
        "    # Define size of sub-blocks and initial filter size\n",
        "    block_layers = [3, 4, 6, 3]\n",
        "    filter_size = 64\n",
        "    # Step 3 Add the Resnet Blocks\n",
        "    for i in range(4):\n",
        "        if i == 0:\n",
        "            # For sub-block 1 Residual/Convolutional block not needed\n",
        "            for j in range(block_layers[i]):\n",
        "                x = identity_block(x, filter_size)\n",
        "        else:\n",
        "            # One Residual/Convolutional Block followed by Identity blocks\n",
        "            # The filter size will go on increasing by a factor of 2\n",
        "            filter_size = filter_size*2\n",
        "            x = convolutional_block(x, filter_size)\n",
        "            for j in range(block_layers[i] - 1):\n",
        "                x = identity_block(x, filter_size)\n",
        "    # Step 4 End Dense Network\n",
        "    x = tf.keras.layers.AveragePooling2D((2,2), padding = 'same')(x)\n",
        "    x = tf.keras.layers.Flatten()(x)\n",
        "    x = tf.keras.layers.Dense(512, activation = 'relu')(x)\n",
        "    x = tf.keras.layers.Dense(classes, activation = 'softmax')(x)\n",
        "    model = tf.keras.models.Model(inputs = x_input, outputs = x, name = \"ResNet34\")\n",
        "    return model"
      ],
      "metadata": {
        "id": "kinAQ_EWrqWz"
      },
      "execution_count": null,
      "outputs": []
    },
    {
      "cell_type": "code",
      "source": [
        "model = ResNet34(shape = (150, 150, 1), classes = 15)\n",
        "model.compile(optimizer='adam', loss='sparse_categorical_crossentropy', metrics=['accuracy'])\n",
        "#print(model.summary())"
      ],
      "metadata": {
        "id": "X_MekJitr_pZ"
      },
      "execution_count": null,
      "outputs": []
    },
    {
      "cell_type": "code",
      "source": [
        "history = model.fit(train_images, train_labels, epochs=25, verbose=2)"
      ],
      "metadata": {
        "colab": {
          "base_uri": "https://localhost:8080/"
        },
        "id": "-itGVOgAsnWR",
        "outputId": "8a5d31be-c1ff-4e72-a9a6-3bf23096572b"
      },
      "execution_count": null,
      "outputs": [
        {
          "output_type": "stream",
          "name": "stdout",
          "text": [
            "Epoch 1/25\n",
            "10/10 - 25s - loss: 16.6121 - accuracy: 0.2549 - 25s/epoch - 2s/step\n",
            "Epoch 2/25\n",
            "10/10 - 1s - loss: 2.7950 - accuracy: 0.2908 - 1s/epoch - 100ms/step\n",
            "Epoch 3/25\n",
            "10/10 - 1s - loss: 1.9673 - accuracy: 0.4118 - 1s/epoch - 100ms/step\n",
            "Epoch 4/25\n",
            "10/10 - 1s - loss: 1.8565 - accuracy: 0.4150 - 996ms/epoch - 100ms/step\n",
            "Epoch 5/25\n",
            "10/10 - 1s - loss: 1.8071 - accuracy: 0.4150 - 996ms/epoch - 100ms/step\n",
            "Epoch 6/25\n",
            "10/10 - 1s - loss: 1.6801 - accuracy: 0.4248 - 972ms/epoch - 97ms/step\n",
            "Epoch 7/25\n",
            "10/10 - 1s - loss: 1.6221 - accuracy: 0.5196 - 974ms/epoch - 97ms/step\n",
            "Epoch 8/25\n",
            "10/10 - 1s - loss: 1.4451 - accuracy: 0.5686 - 976ms/epoch - 98ms/step\n",
            "Epoch 9/25\n",
            "10/10 - 1s - loss: 1.1927 - accuracy: 0.6176 - 981ms/epoch - 98ms/step\n",
            "Epoch 10/25\n",
            "10/10 - 1s - loss: 0.9826 - accuracy: 0.6699 - 976ms/epoch - 98ms/step\n",
            "Epoch 11/25\n",
            "10/10 - 1s - loss: 0.7364 - accuracy: 0.7386 - 979ms/epoch - 98ms/step\n",
            "Epoch 12/25\n",
            "10/10 - 1s - loss: 0.6167 - accuracy: 0.7810 - 980ms/epoch - 98ms/step\n",
            "Epoch 13/25\n",
            "10/10 - 1s - loss: 0.5012 - accuracy: 0.8072 - 982ms/epoch - 98ms/step\n",
            "Epoch 14/25\n",
            "10/10 - 1s - loss: 0.3352 - accuracy: 0.8758 - 980ms/epoch - 98ms/step\n",
            "Epoch 15/25\n",
            "10/10 - 1s - loss: 0.2171 - accuracy: 0.9412 - 984ms/epoch - 98ms/step\n",
            "Epoch 16/25\n",
            "10/10 - 1s - loss: 0.1545 - accuracy: 0.9641 - 1s/epoch - 115ms/step\n",
            "Epoch 17/25\n",
            "10/10 - 1s - loss: 0.1238 - accuracy: 0.9641 - 1s/epoch - 111ms/step\n",
            "Epoch 18/25\n",
            "10/10 - 1s - loss: 0.0756 - accuracy: 0.9902 - 1s/epoch - 114ms/step\n",
            "Epoch 19/25\n",
            "10/10 - 1s - loss: 0.0739 - accuracy: 0.9837 - 1s/epoch - 133ms/step\n",
            "Epoch 20/25\n",
            "10/10 - 1s - loss: 0.1259 - accuracy: 0.9575 - 1s/epoch - 144ms/step\n",
            "Epoch 21/25\n",
            "10/10 - 1s - loss: 0.3256 - accuracy: 0.8856 - 1s/epoch - 115ms/step\n",
            "Epoch 22/25\n",
            "10/10 - 1s - loss: 0.1874 - accuracy: 0.9444 - 991ms/epoch - 99ms/step\n",
            "Epoch 23/25\n",
            "10/10 - 1s - loss: 0.1038 - accuracy: 0.9706 - 985ms/epoch - 99ms/step\n",
            "Epoch 24/25\n",
            "10/10 - 1s - loss: 0.0690 - accuracy: 0.9771 - 988ms/epoch - 99ms/step\n",
            "Epoch 25/25\n",
            "10/10 - 1s - loss: 0.0726 - accuracy: 0.9837 - 987ms/epoch - 99ms/step\n"
          ]
        }
      ]
    },
    {
      "cell_type": "code",
      "source": [
        "test_loss, test_acc = model.evaluate(test_images,  test_labels, verbose=2)\n",
        "\n",
        "print('\\nTest accuracy:', test_acc)"
      ],
      "metadata": {
        "colab": {
          "base_uri": "https://localhost:8080/"
        },
        "id": "YYIgo3pOuabA",
        "outputId": "3928eda0-cea4-444f-c977-7f560e3596c0"
      },
      "execution_count": null,
      "outputs": [
        {
          "output_type": "stream",
          "name": "stdout",
          "text": [
            "10/10 - 1s - loss: 19.4215 - accuracy: 0.5752 - 1s/epoch - 103ms/step\n",
            "\n",
            "Test accuracy: 0.5751634240150452\n"
          ]
        }
      ]
    },
    {
      "cell_type": "markdown",
      "source": [
        "```\n",
        "SIZE=10      SIZE=7\n",
        "----------------------\n",
        "epoch=25     epoch=25\n",
        "acc=0.46     acc=0.58\n",
        "----------------------\n",
        "epoch=50     epoch=50\n",
        "acc=0.71     acc=0.54\n",
        "----------------------\n",
        "epoch=75     epoch=75\n",
        "acc=0.995    acc=0.29\n",
        "----------------------\n",
        "epoch=100    epoch=100\n",
        "acc=1.0      acc=0.898\n",
        "```"
      ],
      "metadata": {
        "id": "Dp_ezkiOEwXD"
      }
    },
    {
      "cell_type": "markdown",
      "source": [
        "# **FUTURE WORK**"
      ],
      "metadata": {
        "id": "rLtcVDae5B6d"
      }
    },
    {
      "cell_type": "markdown",
      "source": [
        "# LSTM RNN Model"
      ],
      "metadata": {
        "id": "58d7aXrgZv0N"
      }
    }
  ]
}